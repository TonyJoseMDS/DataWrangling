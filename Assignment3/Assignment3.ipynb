{
 "cells": [
  {
   "cell_type": "markdown",
   "metadata": {},
   "source": [
    "#### Assignment 3"
   ]
  },
  {
   "cell_type": "code",
   "execution_count": 1,
   "metadata": {},
   "outputs": [
    {
     "data": {
      "text/html": [
       "<div>\n",
       "<style scoped>\n",
       "    .dataframe tbody tr th:only-of-type {\n",
       "        vertical-align: middle;\n",
       "    }\n",
       "\n",
       "    .dataframe tbody tr th {\n",
       "        vertical-align: top;\n",
       "    }\n",
       "\n",
       "    .dataframe thead th {\n",
       "        text-align: right;\n",
       "    }\n",
       "</style>\n",
       "<table border=\"1\" class=\"dataframe\">\n",
       "  <thead>\n",
       "    <tr style=\"text-align: right;\">\n",
       "      <th></th>\n",
       "      <th>order_id</th>\n",
       "      <th>date</th>\n",
       "      <th>time</th>\n",
       "      <th>order_type</th>\n",
       "      <th>branch_code</th>\n",
       "      <th>order_items</th>\n",
       "      <th>order_price</th>\n",
       "      <th>customer_lat</th>\n",
       "      <th>customer_lon</th>\n",
       "      <th>customerHasloyalty?</th>\n",
       "      <th>distance_to_customer_KM</th>\n",
       "      <th>delivery_fee</th>\n",
       "    </tr>\n",
       "  </thead>\n",
       "  <tbody>\n",
       "    <tr>\n",
       "      <th>0</th>\n",
       "      <td>ORDK08089</td>\n",
       "      <td>18/10/2018</td>\n",
       "      <td>17:38:01</td>\n",
       "      <td>Dinner</td>\n",
       "      <td>BK</td>\n",
       "      <td>[('Pasta', 9), ('Salmon', 1), ('Fish&amp;Chips', 1...</td>\n",
       "      <td>431.5</td>\n",
       "      <td>-37.823772</td>\n",
       "      <td>144.982539</td>\n",
       "      <td>0</td>\n",
       "      <td>6.835</td>\n",
       "      <td>13.994718</td>\n",
       "    </tr>\n",
       "    <tr>\n",
       "      <th>1</th>\n",
       "      <td>ORDI05679</td>\n",
       "      <td>6/08/2018</td>\n",
       "      <td>15:05:54</td>\n",
       "      <td>Lunch</td>\n",
       "      <td>NS</td>\n",
       "      <td>[('Chicken', 5), ('Fries', 5), ('Burger', 5), ...</td>\n",
       "      <td>623.8</td>\n",
       "      <td>-37.805138</td>\n",
       "      <td>144.964186</td>\n",
       "      <td>0</td>\n",
       "      <td>7.068</td>\n",
       "      <td>12.683499</td>\n",
       "    </tr>\n",
       "    <tr>\n",
       "      <th>2</th>\n",
       "      <td>ORDJ09514</td>\n",
       "      <td>2018-30-06</td>\n",
       "      <td>13:54:55</td>\n",
       "      <td>Lunch</td>\n",
       "      <td>TP</td>\n",
       "      <td>[('Burger', 3), ('Steak', 10), ('Chicken', 7)]</td>\n",
       "      <td>767.0</td>\n",
       "      <td>-37.805550</td>\n",
       "      <td>144.935397</td>\n",
       "      <td>0</td>\n",
       "      <td>10.742</td>\n",
       "      <td>14.913298</td>\n",
       "    </tr>\n",
       "    <tr>\n",
       "      <th>3</th>\n",
       "      <td>ORDZ06702</td>\n",
       "      <td>15/11/2018</td>\n",
       "      <td>18:28:43</td>\n",
       "      <td>Dinner</td>\n",
       "      <td>BK</td>\n",
       "      <td>[('Shrimp', 3), ('Fish&amp;Chips', 8), ('Salmon', 5)]</td>\n",
       "      <td>647.0</td>\n",
       "      <td>-37.823825</td>\n",
       "      <td>144.959297</td>\n",
       "      <td>0</td>\n",
       "      <td>9.960</td>\n",
       "      <td>15.393485</td>\n",
       "    </tr>\n",
       "    <tr>\n",
       "      <th>4</th>\n",
       "      <td>ORDJ03750</td>\n",
       "      <td>8/11/2018</td>\n",
       "      <td>18:18:35</td>\n",
       "      <td>Dinner</td>\n",
       "      <td>TP</td>\n",
       "      <td>[('Pasta', 1), ('Salmon', 1)]</td>\n",
       "      <td>68.5</td>\n",
       "      <td>-37.813677</td>\n",
       "      <td>145.012955</td>\n",
       "      <td>0</td>\n",
       "      <td>12.277</td>\n",
       "      <td>15.217138</td>\n",
       "    </tr>\n",
       "  </tbody>\n",
       "</table>\n",
       "</div>"
      ],
      "text/plain": [
       "    order_id        date      time order_type branch_code  \\\n",
       "0  ORDK08089  18/10/2018  17:38:01     Dinner          BK   \n",
       "1  ORDI05679   6/08/2018  15:05:54      Lunch          NS   \n",
       "2  ORDJ09514  2018-30-06  13:54:55      Lunch          TP   \n",
       "3  ORDZ06702  15/11/2018  18:28:43     Dinner          BK   \n",
       "4  ORDJ03750   8/11/2018  18:18:35     Dinner          TP   \n",
       "\n",
       "                                         order_items  order_price  \\\n",
       "0  [('Pasta', 9), ('Salmon', 1), ('Fish&Chips', 1...        431.5   \n",
       "1  [('Chicken', 5), ('Fries', 5), ('Burger', 5), ...        623.8   \n",
       "2     [('Burger', 3), ('Steak', 10), ('Chicken', 7)]        767.0   \n",
       "3  [('Shrimp', 3), ('Fish&Chips', 8), ('Salmon', 5)]        647.0   \n",
       "4                      [('Pasta', 1), ('Salmon', 1)]         68.5   \n",
       "\n",
       "   customer_lat  customer_lon  customerHasloyalty?  distance_to_customer_KM  \\\n",
       "0    -37.823772    144.982539                    0                    6.835   \n",
       "1    -37.805138    144.964186                    0                    7.068   \n",
       "2    -37.805550    144.935397                    0                   10.742   \n",
       "3    -37.823825    144.959297                    0                    9.960   \n",
       "4    -37.813677    145.012955                    0                   12.277   \n",
       "\n",
       "   delivery_fee  \n",
       "0     13.994718  \n",
       "1     12.683499  \n",
       "2     14.913298  \n",
       "3     15.393485  \n",
       "4     15.217138  "
      ]
     },
     "execution_count": 1,
     "metadata": {},
     "output_type": "execute_result"
    }
   ],
   "source": [
    "import pandas as pd\n",
    "dirty = pd.read_csv('Group026_dirty_data.csv')\n",
    "dirty.head()"
   ]
  },
  {
   "cell_type": "code",
   "execution_count": 2,
   "metadata": {},
   "outputs": [
    {
     "data": {
      "text/html": [
       "<div>\n",
       "<style scoped>\n",
       "    .dataframe tbody tr th:only-of-type {\n",
       "        vertical-align: middle;\n",
       "    }\n",
       "\n",
       "    .dataframe tbody tr th {\n",
       "        vertical-align: top;\n",
       "    }\n",
       "\n",
       "    .dataframe thead th {\n",
       "        text-align: right;\n",
       "    }\n",
       "</style>\n",
       "<table border=\"1\" class=\"dataframe\">\n",
       "  <thead>\n",
       "    <tr style=\"text-align: right;\">\n",
       "      <th></th>\n",
       "      <th>branch_code</th>\n",
       "      <th>branch_name</th>\n",
       "      <th>branch_lat</th>\n",
       "      <th>branch_lon</th>\n",
       "    </tr>\n",
       "  </thead>\n",
       "  <tbody>\n",
       "    <tr>\n",
       "      <th>0</th>\n",
       "      <td>NS</td>\n",
       "      <td>Nickolson</td>\n",
       "      <td>-37.773803</td>\n",
       "      <td>144.983647</td>\n",
       "    </tr>\n",
       "    <tr>\n",
       "      <th>1</th>\n",
       "      <td>TP</td>\n",
       "      <td>Thompson</td>\n",
       "      <td>-37.861835</td>\n",
       "      <td>144.905716</td>\n",
       "    </tr>\n",
       "    <tr>\n",
       "      <th>2</th>\n",
       "      <td>BK</td>\n",
       "      <td>Bakers</td>\n",
       "      <td>-37.815834</td>\n",
       "      <td>145.046450</td>\n",
       "    </tr>\n",
       "  </tbody>\n",
       "</table>\n",
       "</div>"
      ],
      "text/plain": [
       "  branch_code branch_name  branch_lat  branch_lon\n",
       "0          NS   Nickolson  -37.773803  144.983647\n",
       "1          TP    Thompson  -37.861835  144.905716\n",
       "2          BK      Bakers  -37.815834  145.046450"
      ]
     },
     "execution_count": 2,
     "metadata": {},
     "output_type": "execute_result"
    }
   ],
   "source": [
    "branch=pd.read_csv('branches.csv')\n",
    "branch.head()"
   ]
  },
  {
   "cell_type": "code",
   "execution_count": 3,
   "metadata": {},
   "outputs": [
    {
     "name": "stdout",
     "output_type": "stream",
     "text": [
      "  branch_code branch_name  branch_lat  branch_lon\n",
      "0          NS   Nickolson  -37.773803  144.983647\n",
      "1          TP    Thompson  -37.861835  144.905716\n",
      "2          BK      Bakers  -37.815834  145.046450\n"
     ]
    }
   ],
   "source": [
    "print(branch)"
   ]
  },
  {
   "cell_type": "code",
   "execution_count": 4,
   "metadata": {},
   "outputs": [
    {
     "data": {
      "text/html": [
       "<div>\n",
       "<style scoped>\n",
       "    .dataframe tbody tr th:only-of-type {\n",
       "        vertical-align: middle;\n",
       "    }\n",
       "\n",
       "    .dataframe tbody tr th {\n",
       "        vertical-align: top;\n",
       "    }\n",
       "\n",
       "    .dataframe thead th {\n",
       "        text-align: right;\n",
       "    }\n",
       "</style>\n",
       "<table border=\"1\" class=\"dataframe\">\n",
       "  <thead>\n",
       "    <tr style=\"text-align: right;\">\n",
       "      <th></th>\n",
       "      <th>order_id</th>\n",
       "      <th>date</th>\n",
       "      <th>time</th>\n",
       "      <th>order_type</th>\n",
       "      <th>branch_code</th>\n",
       "      <th>order_items</th>\n",
       "    </tr>\n",
       "  </thead>\n",
       "  <tbody>\n",
       "    <tr>\n",
       "      <th>count</th>\n",
       "      <td>500</td>\n",
       "      <td>500</td>\n",
       "      <td>500</td>\n",
       "      <td>500</td>\n",
       "      <td>500</td>\n",
       "      <td>500</td>\n",
       "    </tr>\n",
       "    <tr>\n",
       "      <th>unique</th>\n",
       "      <td>500</td>\n",
       "      <td>295</td>\n",
       "      <td>72</td>\n",
       "      <td>3</td>\n",
       "      <td>6</td>\n",
       "      <td>497</td>\n",
       "    </tr>\n",
       "    <tr>\n",
       "      <th>top</th>\n",
       "      <td>ORDA06385</td>\n",
       "      <td>2/04/2018</td>\n",
       "      <td>11:12:40</td>\n",
       "      <td>Breakfast</td>\n",
       "      <td>NS</td>\n",
       "      <td>[('Shrimp', 3), ('Salmon', 3)]</td>\n",
       "    </tr>\n",
       "    <tr>\n",
       "      <th>freq</th>\n",
       "      <td>1</td>\n",
       "      <td>6</td>\n",
       "      <td>12</td>\n",
       "      <td>188</td>\n",
       "      <td>158</td>\n",
       "      <td>2</td>\n",
       "    </tr>\n",
       "  </tbody>\n",
       "</table>\n",
       "</div>"
      ],
      "text/plain": [
       "         order_id       date      time order_type branch_code  \\\n",
       "count         500        500       500        500         500   \n",
       "unique        500        295        72          3           6   \n",
       "top     ORDA06385  2/04/2018  11:12:40  Breakfast          NS   \n",
       "freq            1          6        12        188         158   \n",
       "\n",
       "                           order_items  \n",
       "count                              500  \n",
       "unique                             497  \n",
       "top     [('Shrimp', 3), ('Salmon', 3)]  \n",
       "freq                                 2  "
      ]
     },
     "execution_count": 4,
     "metadata": {},
     "output_type": "execute_result"
    }
   ],
   "source": [
    "dirty.describe(include='O')"
   ]
  },
  {
   "cell_type": "code",
   "execution_count": 5,
   "metadata": {},
   "outputs": [
    {
     "data": {
      "text/plain": [
       "NS    158\n",
       "BK    155\n",
       "TP    154\n",
       "ns     13\n",
       "bk     11\n",
       "tp      9\n",
       "Name: branch_code, dtype: int64"
      ]
     },
     "execution_count": 5,
     "metadata": {},
     "output_type": "execute_result"
    }
   ],
   "source": [
    "dirty.branch_code.value_counts()"
   ]
  },
  {
   "cell_type": "code",
   "execution_count": 6,
   "metadata": {},
   "outputs": [],
   "source": [
    "dirty.branch_code.replace({'ns':'NS', 'bk':'BK', 'tp':'TP'},inplace=True)"
   ]
  },
  {
   "cell_type": "code",
   "execution_count": 7,
   "metadata": {},
   "outputs": [
    {
     "data": {
      "text/plain": [
       "NS    171\n",
       "BK    166\n",
       "TP    163\n",
       "Name: branch_code, dtype: int64"
      ]
     },
     "execution_count": 7,
     "metadata": {},
     "output_type": "execute_result"
    }
   ],
   "source": [
    "dirty.branch_code.value_counts()"
   ]
  },
  {
   "cell_type": "code",
   "execution_count": 8,
   "metadata": {},
   "outputs": [
    {
     "data": {
      "text/html": [
       "<div>\n",
       "<style scoped>\n",
       "    .dataframe tbody tr th:only-of-type {\n",
       "        vertical-align: middle;\n",
       "    }\n",
       "\n",
       "    .dataframe tbody tr th {\n",
       "        vertical-align: top;\n",
       "    }\n",
       "\n",
       "    .dataframe thead th {\n",
       "        text-align: right;\n",
       "    }\n",
       "</style>\n",
       "<table border=\"1\" class=\"dataframe\">\n",
       "  <thead>\n",
       "    <tr style=\"text-align: right;\">\n",
       "      <th></th>\n",
       "      <th>order_id</th>\n",
       "      <th>date</th>\n",
       "      <th>time</th>\n",
       "      <th>order_type</th>\n",
       "      <th>branch_code</th>\n",
       "      <th>order_items</th>\n",
       "      <th>order_price</th>\n",
       "      <th>customer_lat</th>\n",
       "      <th>customer_lon</th>\n",
       "      <th>customerHasloyalty?</th>\n",
       "      <th>distance_to_customer_KM</th>\n",
       "      <th>delivery_fee</th>\n",
       "    </tr>\n",
       "  </thead>\n",
       "  <tbody>\n",
       "    <tr>\n",
       "      <th>0</th>\n",
       "      <td>ORDY02448</td>\n",
       "      <td>2018-04-05</td>\n",
       "      <td>11:02:32</td>\n",
       "      <td>Breakfast</td>\n",
       "      <td>TP</td>\n",
       "      <td>[('Coffee', 1), ('Pancake', 8), ('Cereal', 4)]</td>\n",
       "      <td>285.5</td>\n",
       "      <td>-37.801972</td>\n",
       "      <td>144.993970</td>\n",
       "      <td>0</td>\n",
       "      <td>11.272</td>\n",
       "      <td>13.491511</td>\n",
       "    </tr>\n",
       "    <tr>\n",
       "      <th>1</th>\n",
       "      <td>ORDK02456</td>\n",
       "      <td>2018-06-09</td>\n",
       "      <td>13:14:21</td>\n",
       "      <td>Lunch</td>\n",
       "      <td>BK</td>\n",
       "      <td>[('Steak', 5), ('Fries', 9), ('Salad', 10), ('...</td>\n",
       "      <td>660.0</td>\n",
       "      <td>-37.804342</td>\n",
       "      <td>144.948859</td>\n",
       "      <td>0</td>\n",
       "      <td>8.880</td>\n",
       "      <td>17.305048</td>\n",
       "    </tr>\n",
       "    <tr>\n",
       "      <th>2</th>\n",
       "      <td>ORDX05363</td>\n",
       "      <td>2018-12-29</td>\n",
       "      <td>20:00:00</td>\n",
       "      <td>Dinner</td>\n",
       "      <td>BK</td>\n",
       "      <td>[('Pasta', 5), ('Fish&amp;Chips', 2), ('Shrimp', 2...</td>\n",
       "      <td>479.5</td>\n",
       "      <td>-37.815720</td>\n",
       "      <td>144.937145</td>\n",
       "      <td>0</td>\n",
       "      <td>10.049</td>\n",
       "      <td>19.947093</td>\n",
       "    </tr>\n",
       "    <tr>\n",
       "      <th>3</th>\n",
       "      <td>ORDI01233</td>\n",
       "      <td>2018-06-30</td>\n",
       "      <td>13:54:55</td>\n",
       "      <td>Lunch</td>\n",
       "      <td>NS</td>\n",
       "      <td>[('Fries', 2), ('Chicken', 4)]</td>\n",
       "      <td>152.0</td>\n",
       "      <td>-37.818778</td>\n",
       "      <td>144.952849</td>\n",
       "      <td>0</td>\n",
       "      <td>10.101</td>\n",
       "      <td>17.683454</td>\n",
       "    </tr>\n",
       "    <tr>\n",
       "      <th>4</th>\n",
       "      <td>ORDK10204</td>\n",
       "      <td>2018-07-23</td>\n",
       "      <td>14:45:38</td>\n",
       "      <td>Lunch</td>\n",
       "      <td>BK</td>\n",
       "      <td>[('Steak', 2), ('Chicken', 6), ('Burger', 9)]</td>\n",
       "      <td>561.0</td>\n",
       "      <td>-37.808594</td>\n",
       "      <td>144.948182</td>\n",
       "      <td>0</td>\n",
       "      <td>8.942</td>\n",
       "      <td>15.583234</td>\n",
       "    </tr>\n",
       "  </tbody>\n",
       "</table>\n",
       "</div>"
      ],
      "text/plain": [
       "    order_id        date      time order_type branch_code  \\\n",
       "0  ORDY02448  2018-04-05  11:02:32  Breakfast          TP   \n",
       "1  ORDK02456  2018-06-09  13:14:21      Lunch          BK   \n",
       "2  ORDX05363  2018-12-29  20:00:00     Dinner          BK   \n",
       "3  ORDI01233  2018-06-30  13:54:55      Lunch          NS   \n",
       "4  ORDK10204  2018-07-23  14:45:38      Lunch          BK   \n",
       "\n",
       "                                         order_items  order_price  \\\n",
       "0     [('Coffee', 1), ('Pancake', 8), ('Cereal', 4)]        285.5   \n",
       "1  [('Steak', 5), ('Fries', 9), ('Salad', 10), ('...        660.0   \n",
       "2  [('Pasta', 5), ('Fish&Chips', 2), ('Shrimp', 2...        479.5   \n",
       "3                     [('Fries', 2), ('Chicken', 4)]        152.0   \n",
       "4      [('Steak', 2), ('Chicken', 6), ('Burger', 9)]        561.0   \n",
       "\n",
       "   customer_lat  customer_lon  customerHasloyalty?  distance_to_customer_KM  \\\n",
       "0    -37.801972    144.993970                    0                   11.272   \n",
       "1    -37.804342    144.948859                    0                    8.880   \n",
       "2    -37.815720    144.937145                    0                   10.049   \n",
       "3    -37.818778    144.952849                    0                   10.101   \n",
       "4    -37.808594    144.948182                    0                    8.942   \n",
       "\n",
       "   delivery_fee  \n",
       "0     13.491511  \n",
       "1     17.305048  \n",
       "2     19.947093  \n",
       "3     17.683454  \n",
       "4     15.583234  "
      ]
     },
     "execution_count": 8,
     "metadata": {},
     "output_type": "execute_result"
    }
   ],
   "source": [
    "outlier=pd.read_csv('Group026_outlier_data.csv')\n",
    "outlier.head()"
   ]
  },
  {
   "cell_type": "code",
   "execution_count": 9,
   "metadata": {},
   "outputs": [
    {
     "data": {
      "text/plain": [
       "0        [('Coffee', 1), ('Pancake', 8), ('Cereal', 4)]\n",
       "6     [('Coffee', 7), ('Pancake', 4), ('Eggs', 8), (...\n",
       "8         [('Cereal', 8), ('Eggs', 8), ('Pancake', 10)]\n",
       "10    [('Cereal', 4), ('Coffee', 9), ('Eggs', 2), ('...\n",
       "12                         [('Eggs', 4), ('Cereal', 3)]\n",
       "Name: order_items, dtype: object"
      ]
     },
     "execution_count": 9,
     "metadata": {},
     "output_type": "execute_result"
    }
   ],
   "source": [
    "breakfast=outlier[outlier.order_type=='Breakfast']\n",
    "breakfast['order_items'].head()"
   ]
  },
  {
   "cell_type": "code",
   "execution_count": 10,
   "metadata": {},
   "outputs": [],
   "source": [
    "import re\n",
    "\n",
    "value = []\n",
    "bfitems=[]\n",
    "for i in breakfast['order_items']:\n",
    "    value.append(i)\n",
    "    \n",
    "    "
   ]
  },
  {
   "cell_type": "code",
   "execution_count": 11,
   "metadata": {},
   "outputs": [],
   "source": [
    "flatten=[]\n",
    "for item in value:\n",
    "    flatten.append(item)"
   ]
  },
  {
   "cell_type": "code",
   "execution_count": 12,
   "metadata": {},
   "outputs": [],
   "source": [
    "node=pd.read_csv('nodes.csv')"
   ]
  },
  {
   "cell_type": "code",
   "execution_count": 13,
   "metadata": {},
   "outputs": [],
   "source": [
    "type(node.lat)\n",
    "lat=set(node.lat)"
   ]
  },
  {
   "cell_type": "code",
   "execution_count": 14,
   "metadata": {},
   "outputs": [
    {
     "data": {
      "text/plain": [
       "set"
      ]
     },
     "execution_count": 14,
     "metadata": {},
     "output_type": "execute_result"
    }
   ],
   "source": [
    "type(lat)"
   ]
  },
  {
   "cell_type": "code",
   "execution_count": 16,
   "metadata": {},
   "outputs": [
    {
     "name": "stdout",
     "output_type": "stream",
     "text": [
      "37.819111799999995\n",
      "144.98681499999998\n",
      "37.810861100000004\n",
      "37.8218255\n",
      "144.967727\n",
      "37.8195117\n",
      "37.8178333\n",
      "37.799082299999995\n",
      "37.8149591\n",
      "37.8027244\n",
      "37.8158152\n",
      "37.818758\n",
      "144.9478494\n",
      "37.8096732\n",
      "37.813342799999994\n",
      "37.8093802\n",
      "37.8065078\n",
      "37.8063865\n",
      "37.8176281\n",
      "37.8062519\n",
      "37.813995299999995\n",
      "37.7997629\n",
      "37.8118559\n",
      "145.0003489\n",
      "37.815135999999995\n",
      "37.808570200000005\n",
      "37.800740399999995\n",
      "37.805916100000005\n",
      "37.8077318\n",
      "37.812397\n",
      "37.814504299999996\n",
      "37.821442499999996\n",
      "37.824182799999996\n",
      "37.8247325\n",
      "37.8270191\n",
      "37.8005658\n",
      "37.8217484\n",
      "37.8215945\n",
      "37.8050924\n",
      "37.8246967\n",
      "37.8124455\n"
     ]
    }
   ],
   "source": [
    "for i in dirty.customer_lat:\n",
    "    if i not in lat:\n",
    "        print(i)"
   ]
  },
  {
   "cell_type": "code",
   "execution_count": 24,
   "metadata": {},
   "outputs": [
    {
     "data": {
      "text/html": [
       "<div>\n",
       "<style scoped>\n",
       "    .dataframe tbody tr th:only-of-type {\n",
       "        vertical-align: middle;\n",
       "    }\n",
       "\n",
       "    .dataframe tbody tr th {\n",
       "        vertical-align: top;\n",
       "    }\n",
       "\n",
       "    .dataframe thead th {\n",
       "        text-align: right;\n",
       "    }\n",
       "</style>\n",
       "<table border=\"1\" class=\"dataframe\">\n",
       "  <thead>\n",
       "    <tr style=\"text-align: right;\">\n",
       "      <th></th>\n",
       "      <th>c1</th>\n",
       "      <th>c2</th>\n",
       "      <th>c3</th>\n",
       "    </tr>\n",
       "  </thead>\n",
       "  <tbody>\n",
       "    <tr>\n",
       "      <th>0</th>\n",
       "      <td>10</td>\n",
       "      <td>100</td>\n",
       "      <td>200</td>\n",
       "    </tr>\n",
       "    <tr>\n",
       "      <th>1</th>\n",
       "      <td>11</td>\n",
       "      <td>110</td>\n",
       "      <td>200</td>\n",
       "    </tr>\n",
       "    <tr>\n",
       "      <th>2</th>\n",
       "      <td>12</td>\n",
       "      <td>120</td>\n",
       "      <td>200</td>\n",
       "    </tr>\n",
       "  </tbody>\n",
       "</table>\n",
       "</div>"
      ],
      "text/plain": [
       "   c1   c2   c3\n",
       "0  10  100  200\n",
       "1  11  110  200\n",
       "2  12  120  200"
      ]
     },
     "execution_count": 24,
     "metadata": {},
     "output_type": "execute_result"
    }
   ],
   "source": [
    "import pandas as pd\n",
    "import numpy as np\n",
    "\n",
    "df = pd.DataFrame([{'c1':10, 'c2':100, 'c3':200}, {'c1':11,'c2':110, 'c3':200}, {'c1':12,'c2':120, 'c3':200}])\n",
    "df"
   ]
  },
  {
   "cell_type": "code",
   "execution_count": 22,
   "metadata": {},
   "outputs": [
    {
     "name": "stdout",
     "output_type": "stream",
     "text": [
      "10 100\n",
      "11 110\n",
      "12 120\n"
     ]
    }
   ],
   "source": [
    "for index, row in df.iterrows():\n",
    "    print(row['c1'], row['c2'])"
   ]
  },
  {
   "cell_type": "code",
   "execution_count": 25,
   "metadata": {},
   "outputs": [
    {
     "data": {
      "text/html": [
       "<div>\n",
       "<style scoped>\n",
       "    .dataframe tbody tr th:only-of-type {\n",
       "        vertical-align: middle;\n",
       "    }\n",
       "\n",
       "    .dataframe tbody tr th {\n",
       "        vertical-align: top;\n",
       "    }\n",
       "\n",
       "    .dataframe thead th {\n",
       "        text-align: right;\n",
       "    }\n",
       "</style>\n",
       "<table border=\"1\" class=\"dataframe\">\n",
       "  <thead>\n",
       "    <tr style=\"text-align: right;\">\n",
       "      <th></th>\n",
       "      <th>c1</th>\n",
       "      <th>c2</th>\n",
       "      <th>c3</th>\n",
       "    </tr>\n",
       "  </thead>\n",
       "  <tbody>\n",
       "    <tr>\n",
       "      <th>0</th>\n",
       "      <td>10</td>\n",
       "      <td>100</td>\n",
       "      <td>200</td>\n",
       "    </tr>\n",
       "    <tr>\n",
       "      <th>1</th>\n",
       "      <td>11</td>\n",
       "      <td>110</td>\n",
       "      <td>200</td>\n",
       "    </tr>\n",
       "    <tr>\n",
       "      <th>2</th>\n",
       "      <td>12</td>\n",
       "      <td>120</td>\n",
       "      <td>2</td>\n",
       "    </tr>\n",
       "  </tbody>\n",
       "</table>\n",
       "</div>"
      ],
      "text/plain": [
       "   c1   c2   c3\n",
       "0  10  100  200\n",
       "1  11  110  200\n",
       "2  12  120    2"
      ]
     },
     "execution_count": 25,
     "metadata": {},
     "output_type": "execute_result"
    }
   ],
   "source": [
    "df.at[2,'c3'] = 2\n",
    "df"
   ]
  },
  {
   "cell_type": "code",
   "execution_count": 26,
   "metadata": {},
   "outputs": [
    {
     "data": {
      "text/html": [
       "<div>\n",
       "<style scoped>\n",
       "    .dataframe tbody tr th:only-of-type {\n",
       "        vertical-align: middle;\n",
       "    }\n",
       "\n",
       "    .dataframe tbody tr th {\n",
       "        vertical-align: top;\n",
       "    }\n",
       "\n",
       "    .dataframe thead th {\n",
       "        text-align: right;\n",
       "    }\n",
       "</style>\n",
       "<table border=\"1\" class=\"dataframe\">\n",
       "  <thead>\n",
       "    <tr style=\"text-align: right;\">\n",
       "      <th></th>\n",
       "      <th>c1</th>\n",
       "      <th>c2</th>\n",
       "      <th>c3</th>\n",
       "    </tr>\n",
       "  </thead>\n",
       "  <tbody>\n",
       "    <tr>\n",
       "      <th>0</th>\n",
       "      <td>10</td>\n",
       "      <td>100</td>\n",
       "      <td>200</td>\n",
       "    </tr>\n",
       "    <tr>\n",
       "      <th>1</th>\n",
       "      <td>11</td>\n",
       "      <td>110</td>\n",
       "      <td>200</td>\n",
       "    </tr>\n",
       "    <tr>\n",
       "      <th>2</th>\n",
       "      <td>12</td>\n",
       "      <td>120</td>\n",
       "      <td>2</td>\n",
       "    </tr>\n",
       "  </tbody>\n",
       "</table>\n",
       "</div>"
      ],
      "text/plain": [
       "   c1   c2   c3\n",
       "0  10  100  200\n",
       "1  11  110  200\n",
       "2  12  120    2"
      ]
     },
     "execution_count": 26,
     "metadata": {},
     "output_type": "execute_result"
    }
   ],
   "source": [
    "for i in df.c1:\n",
    "    i = i *100\n",
    "df"
   ]
  },
  {
   "cell_type": "code",
   "execution_count": 27,
   "metadata": {},
   "outputs": [],
   "source": [
    "import datetime as dt\n",
    "\n",
    "d = dt.time(8,0,0)"
   ]
  },
  {
   "cell_type": "code",
   "execution_count": 28,
   "metadata": {},
   "outputs": [
    {
     "data": {
      "text/plain": [
       "datetime.time(8, 0)"
      ]
     },
     "execution_count": 28,
     "metadata": {},
     "output_type": "execute_result"
    }
   ],
   "source": [
    "d"
   ]
  },
  {
   "cell_type": "code",
   "execution_count": 29,
   "metadata": {},
   "outputs": [
    {
     "name": "stdout",
     "output_type": "stream",
     "text": [
      "08:00:00\n"
     ]
    }
   ],
   "source": [
    "print(d)"
   ]
  },
  {
   "cell_type": "code",
   "execution_count": null,
   "metadata": {},
   "outputs": [],
   "source": []
  }
 ],
 "metadata": {
  "kernelspec": {
   "display_name": "Python 3",
   "language": "python",
   "name": "python3"
  },
  "language_info": {
   "codemirror_mode": {
    "name": "ipython",
    "version": 3
   },
   "file_extension": ".py",
   "mimetype": "text/x-python",
   "name": "python",
   "nbconvert_exporter": "python",
   "pygments_lexer": "ipython3",
   "version": "3.7.1"
  }
 },
 "nbformat": 4,
 "nbformat_minor": 2
}
